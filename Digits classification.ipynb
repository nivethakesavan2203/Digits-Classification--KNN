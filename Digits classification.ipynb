{
 "cells": [
  {
   "cell_type": "markdown",
   "metadata": {},
   "source": [
    "#  Digits classification using K-Nearest Neighbors (KNN)\n",
    "## Implemented own K-Nearest Neighbors (KNN) algorithm on SKLearn's Digit Dataset\n"
   ]
  },
  {
   "cell_type": "code",
   "execution_count": 1,
   "metadata": {},
   "outputs": [],
   "source": [
    "import numpy as np\n",
    "import matplotlib.pyplot as plt\n",
    "import sklearn\n",
    "import sklearn.datasets"
   ]
  },
  {
   "cell_type": "code",
   "execution_count": 2,
   "metadata": {},
   "outputs": [],
   "source": [
    "import sklearn.neighbors\n",
    "\n",
    "class KNNClassifier:\n",
    "    \n",
    "    def __init__(self, X, y, k = 5):\n",
    "        \"\"\"\n",
    "        Initialize our custom KNN classifier\n",
    "        PARAMETERS\n",
    "        X - our training data features\n",
    "        y - our training data answers\n",
    "        k - the number of nearest neighbors to consider for classification\n",
    "        \"\"\"\n",
    "\n",
    "        self._model = sklearn.neighbors.BallTree(X)\n",
    "        self._y = y.reshape(y.size)\n",
    "        self._k = k\n",
    "        self._counts = self.getCounts()\n",
    "        \n",
    "    def getCounts(self):\n",
    "        \"\"\"\n",
    "        Creates a dictionary storing the counts of each answer class found in y\n",
    "        RETURNS\n",
    "        counts - a dictionary of counts of answer classes\n",
    "        \"\"\"\n",
    "        counts = dict({1:0,-1:0})\n",
    "        for i in np.nditer(self._y):\n",
    "            i = int(i)\n",
    "            if i in counts:\n",
    "                counts[i] += 1\n",
    "            else:\n",
    "                counts[i] = 1\n",
    "        return counts\n",
    "    \n",
    "    def majority(self, indices):\n",
    "        \n",
    "        \"\"\"\n",
    "        Given indices, report the majority label of those points.\n",
    "        For a tie, report the most common label in the data set.\n",
    "        PARAMETERS\n",
    "        indices - an np.array, where each element is an index of a neighbor\n",
    "        RETURNS\n",
    "        label - the majority label of our neighbors\n",
    "        \"\"\"\n",
    "        label = 0\n",
    "        majorityLabel = dict()\n",
    "        for i in indices[0]:\n",
    "            if self._y[i] in majorityLabel:\n",
    "                majorityLabel[self._y[i]] += 1\n",
    "            else:\n",
    "                majorityLabel[self._y[i]] = 1\n",
    "        \n",
    "        (y_val, count) = max(majorityLabel.items(), key=lambda a: a[1])\n",
    "        \n",
    "        maxValue = count\n",
    "        maxKey = []\n",
    "\n",
    "        for key, value in majorityLabel.items():\n",
    "            if maxValue == value :\n",
    "                maxKey.append(key)\n",
    "        \n",
    "        if (len(maxKey) == 1):\n",
    "            label = maxKey[0]\n",
    "        else:\n",
    "            temp_max  = 0\n",
    "            temp_label = 0\n",
    "            tie_breaker = self.getCounts()\n",
    "            for k in maxKey:\n",
    "                if tie_breaker[k] > temp_max:\n",
    "                    temp_max = tie_breaker[k]\n",
    "                    temp_label = k\n",
    "            label = temp_label\n",
    "        return label\n",
    "    \n",
    "    def classify(self, point):\n",
    "        \"\"\"\n",
    "        Given a new data point, classify it according to the training data X and our number of neighbors k into the appropriate class in our training answers y\n",
    "        PARAMETERS\n",
    "        point - a feature vector of our test point\n",
    "        RETURNS\n",
    "        ans - our predicted classification\n",
    "        \"\"\"\n",
    "        \n",
    "        ans = 0\n",
    "        distance, indices = self._model.query([point], self._k)\n",
    "        ans = self.majority(indices)\n",
    "        return ans\n",
    "    \n",
    "    def confusionMatrix(self, testX, testY):\n",
    "        \"\"\"\n",
    "        Generate a confusion matrix for the given test set\n",
    "        PARAMETERS\n",
    "        testX - an np.array of feature vectors of test points\n",
    "        testY - the corresponding correct classifications of our test set\n",
    "        RETURN\n",
    "        C - an N*N np.array of counts, where N is the number of classes in our classifier\n",
    "        \"\"\"\n",
    "        ConfMatrix = np.array([])\n",
    "        \n",
    "        prediction_list  = []\n",
    "        for i in testX:\n",
    "            predicted = self.classify(i)\n",
    "            prediction_list.append(predicted)\n",
    "        \n",
    "        testY = testY.reshape(testY.size)\n",
    "        classes = {}\n",
    "        for i in testY:\n",
    "            if i in classes:\n",
    "                classes[i] += 1\n",
    "            else:\n",
    "                classes[i] = 1\n",
    "                    \n",
    "        nlabels = len(classes)\n",
    "        tempConfMatrix = [[0 for j in range(nlabels)] for i in range(nlabels)]\n",
    "        k = 0\n",
    "        while(k < len(testY)):\n",
    "            truth = testY[k]\n",
    "            prediction = prediction_list[k]\n",
    "            if truth == -1:\n",
    "                truth = 0\n",
    "            if prediction == -1:\n",
    "                prediction = 0\n",
    "            if truth == prediction:\n",
    "                tempConfMatrix[truth][truth] += 1\n",
    "            if truth != prediction:\n",
    "                tempConfMatrix[truth][prediction] += 1\n",
    "            k += 1\n",
    "        \n",
    "        tempConfMatrix = np.array(tempConfMatrix)\n",
    "        ConfMatrix = tempConfMatrix\n",
    "        return ConfMatrix\n",
    "    \n",
    "    def accuracy(self, C):\n",
    "        \"\"\"\n",
    "        Generate an accuracy score for the classifier based on the confusion matrix\n",
    "        PARAMETERS\n",
    "        C - an np.array of counts\n",
    "        RETURN\n",
    "        score - an accuracy score\n",
    "        \"\"\"\n",
    "        score = np.sum(C.diagonal()) / C.sum()\n",
    "        return(score)"
   ]
  },
  {
   "cell_type": "markdown",
   "metadata": {},
   "source": [
    "Let's verify the KNN classifier Class with some unit test."
   ]
  },
  {
   "cell_type": "code",
   "execution_count": 3,
   "metadata": {},
   "outputs": [
    {
     "name": "stderr",
     "output_type": "stream",
     "text": [
      ".....\n",
      "----------------------------------------------------------------------\n",
      "Ran 5 tests in 0.007s\n",
      "\n",
      "OK\n"
     ]
    },
    {
     "data": {
      "text/plain": [
       "<unittest.runner.TextTestResult run=5 errors=0 failures=0>"
      ]
     },
     "execution_count": 3,
     "metadata": {},
     "output_type": "execute_result"
    }
   ],
   "source": [
    "import unittest\n",
    "\n",
    "class KNNTester(unittest.TestCase):\n",
    "    def setUp(self):\n",
    "        self.x = np.array([[3,1],[2,8], [2,7], [5,2],[3,2],[8,2],[2,4]])\n",
    "        self.y = np.array([[1, -1, -1, 1, -1, 1, -1]])\n",
    "        self.knnfive = KNNClassifier(self.x, self.y)\n",
    "        self.knnthree = KNNClassifier(self.x, self.y, 3)\n",
    "        self.knnone = KNNClassifier(self.x, self.y, 1)\n",
    "       \n",
    "        self.testPoints = np.array([[2,1], [2,6], [4, 4]])\n",
    "        self.testPointsTruth = np.array([[-1, 1, -1]])\n",
    "       \n",
    "    def testCounter(self):\n",
    "        \"\"\"\n",
    "        Test getCounts function from knnclassifier\n",
    "        \"\"\"\n",
    "        self.assertEqual(self.knnfive._counts[1], 3)\n",
    "        self.assertEqual(self.knnfive._counts[-1], 4)\n",
    "       \n",
    "    def testKNNOne(self):\n",
    "        \"\"\"\n",
    "        Test if the classifier returns \"correct\" (expected) classifications for k = 1\n",
    "        \"\"\"\n",
    "        self.assertEqual(self.knnone.classify(self.testPoints[0]), 1)\n",
    "       \n",
    "        self.assertEqual(self.knnone.classify(self.testPoints[1]), -1)\n",
    "        self.assertEqual(self.knnone.classify(self.testPoints[2]), -1)\n",
    "   \n",
    "    def testKNNThree(self):\n",
    "        \"\"\"\n",
    "        Test if the classifier returns \"correct\" (expected) classifications for k = 3\n",
    "        \"\"\"\n",
    "        self.assertEqual(self.knnthree.classify(self.testPoints[0]), -1)\n",
    "        self.assertEqual(self.knnthree.classify(self.testPoints[1]), -1)\n",
    "        self.assertEqual(self.knnthree.classify(self.testPoints[2]), -1)\n",
    "   \n",
    "    def testKNNFive(self):\n",
    "        \"\"\"\n",
    "        Test if the classifier returns \"correct\" (expected) classifications for k = 5\n",
    "        \"\"\"\n",
    "        self.assertEqual(self.knnfive.classify(self.testPoints[0]), -1)\n",
    "        self.assertEqual(self.knnfive.classify(self.testPoints[1]), -1)\n",
    "        self.assertEqual(self.knnfive.classify(self.testPoints[2]), -1)\n",
    "   \n",
    "    def testConfusion(self):\n",
    "        C = self.knnfive.confusionMatrix(self.testPoints, self.testPointsTruth)\n",
    "        self.assertEqual(self.knnfive.accuracy(C), 2/3)\n",
    "        \n",
    "    \n",
    "tests = KNNTester()\n",
    "myTests = unittest.TestLoader().loadTestsFromModule(tests)\n",
    "unittest.TextTestRunner().run(myTests)"
   ]
  },
  {
   "cell_type": "markdown",
   "metadata": {},
   "source": [
    "\n",
    "Let's randomly divide the Digits dataset into training and testing sets with a train-test split of 80:20.\n",
    "\n",
    "Next the the number of examples in training and testing, as well as number of pixels in each image are reported by the report function\n",
    "\n",
    "Then the model is trained on the train test and it classifies the test set and it's confusion matrix is generated along with the accuracy of the classifier.\n",
    "\n",
    "View Digit function prints the digits in the dataset"
   ]
  },
  {
   "cell_type": "code",
   "execution_count": 4,
   "metadata": {},
   "outputs": [
    {
     "name": "stdout",
     "output_type": "stream",
     "text": [
      "Size of training set :  1437\n",
      "Size of testing set :  360\n",
      "Number of pixel in an image :  64\n",
      "[[32  0  0  0  0  0  0  0  0  0]\n",
      " [ 0 35  0  0  0  0  0  0  0  0]\n",
      " [ 0  0 34  0  0  0  0  0  0  0]\n",
      " [ 0  0  0 42  0  0  0  0  0  0]\n",
      " [ 0  0  0  0 29  0  0  0  0  0]\n",
      " [ 0  0  0  0  0 38  0  0  0  0]\n",
      " [ 0  0  0  0  0  0 34  0  0  0]\n",
      " [ 0  0  0  0  0  0  0 50  0  1]\n",
      " [ 0  0  0  0  0  0  0  0 27  0]\n",
      " [ 0  1  0  1  0  1  0  0  1 34]]\n",
      "0.9861111111111112\n"
     ]
    }
   ],
   "source": [
    "\n",
    "class Numbers:\n",
    "    def __init__(self):\n",
    "        #load data from sklearn\n",
    "        digits = sklearn.datasets.load_digits()\n",
    "\n",
    "        img = digits.images\n",
    "        target = digits.target\n",
    "        self.digitImage = digits.images\n",
    "        \n",
    "        n_samples = len(img)\n",
    "        data = digits.images.reshape((n_samples, -1))\n",
    "        \n",
    "        xtrain, xtest, ytrain, ytest = sklearn.model_selection.train_test_split(data, target, train_size = 0.8)\n",
    "        self.train_x = np.array(xtrain)\n",
    "        self.train_y = np.array(ytrain) \n",
    "        self.test_x = np.array(xtest) \n",
    "        self.test_y = np.array(ytest)\n",
    "        \n",
    "    def report(self):\n",
    "        \"\"\"\n",
    "        Report information about the dataset using the print() function\n",
    "        \"\"\"\n",
    "        \n",
    "        print(\"Size of training set : \" , self.train_x.shape[0])\n",
    "        print(\"Size of testing set : \" , self.test_x.shape[0])\n",
    "        print(\"Number of pixel in an image : \", self.train_x[1].size)\n",
    "        \n",
    "\n",
    "    def classify(self):\n",
    "        \"\"\"\n",
    "        Create a classifier using the training data and generate a confusion matrix for the test data\n",
    "        \"\"\"\n",
    "\n",
    "        knnfive = KNNClassifier(self.train_x, self.train_y)\n",
    "        conf_matrix = knnfive.confusionMatrix(self.test_x, self.test_y)\n",
    "        Accuracy = knnfive.accuracy(conf_matrix)\n",
    "        print(conf_matrix)\n",
    "        print(Accuracy)\n",
    "\n",
    "        \n",
    "    def viewDigit(self, digitImage):\n",
    "        \"\"\"\n",
    "        Display an image of a digit\n",
    "        PARAMETERS\n",
    "        digitImage - a data object from the dataset\n",
    "        \"\"\"\n",
    "        plt.gray()\n",
    "        plt.matshow(digitImage)\n",
    "        plt.show()\n",
    "        \n",
    "test = Numbers()\n",
    "test.report()\n",
    "test.classify()"
   ]
  },
  {
   "cell_type": "markdown",
   "metadata": {},
   "source": [
    "1 and 8 are the numbers that are confused often. Sometimes 5 and 9 are confused with each other. Let's print them out and see why they are confused often.\n",
    "\n",
    "### Problem 3: Improving KNN on Digits - 30 Points\n",
    "\n",
    "3.1 Determine which classes are most often confused (from our confusion matrix above), inspect some examples of these digits (using the viewDigit function in our Numbers class), and write a brief (4 - 5 sentences) description of why you think these particular numbers may be misclassified.\n",
    "\n",
    "3.2 Explore the influence of the number of nearest neighbors (i.e. try changing our K). Plot the relationship between K and accuracy, and write a brief (4 - 5 sentences) description of how this factor impacts our accuracy.\n",
    "\n",
    "3.3 (Bonus) Explore the influence of the train / test split of our data (i.e. copy our Numbers class into Numbers2 below and try changing the split for our dataset). Plot the relationship between the split % and accuracy, and write a brief (4 - 5 sentences) description of its impact."
   ]
  },
  {
   "cell_type": "code",
   "execution_count": 5,
   "metadata": {},
   "outputs": [
    {
     "data": {
      "text/plain": [
       "<Figure size 432x288 with 0 Axes>"
      ]
     },
     "metadata": {},
     "output_type": "display_data"
    },
    {
     "data": {
      "image/png": "[encoded data removed]",
      "text/plain": [
       "<Figure size 288x288 with 1 Axes>"
      ]
     },
     "metadata": {
      "needs_background": "light"
     },
     "output_type": "display_data"
    },
    {
     "data": {
      "text/plain": [
       "<Figure size 432x288 with 0 Axes>"
      ]
     },
     "metadata": {},
     "output_type": "display_data"
    },
    {
     "data": {
      "image/png": "[encoded data removed]",
      "text/plain": [
       "<Figure size 288x288 with 1 Axes>"
      ]
     },
     "metadata": {
      "needs_background": "light"
     },
     "output_type": "display_data"
    },
    {
     "data": {
      "text/plain": [
       "<Figure size 432x288 with 0 Axes>"
      ]
     },
     "metadata": {},
     "output_type": "display_data"
    },
    {
     "data": {
      "image/png": "[encoded data removed]",
      "text/plain": [
       "<Figure size 288x288 with 1 Axes>"
      ]
     },
     "metadata": {
      "needs_background": "light"
     },
     "output_type": "display_data"
    },
    {
     "data": {
      "text/plain": [
       "<Figure size 432x288 with 0 Axes>"
      ]
     },
     "metadata": {},
     "output_type": "display_data"
    },
    {
     "data": {
      "image/png": "[encoded data removed]",
      "text/plain": [
       "<Figure size 288x288 with 1 Axes>"
      ]
     },
     "metadata": {
      "needs_background": "light"
     },
     "output_type": "display_data"
    }
   ],
   "source": [
    "exampleDigit = Numbers()\n",
    "exampleDigit.viewDigit(exampleDigit.digitImage[1])\n",
    "exampleDigit.viewDigit(exampleDigit.digitImage[8])\n",
    "\n",
    "exampleDigit.viewDigit(exampleDigit.digitImage[5])\n",
    "exampleDigit.viewDigit(exampleDigit.digitImage[9])\n"
   ]
  },
  {
   "cell_type": "markdown",
   "metadata": {},
   "source": [
    "Upon executing for K=5 with train/test split of 80/20, the numbers 1 and 8 were often confused. One of the reason they are misclassified is because the values in pixels 2 to 5 (entire columns) form one and they have a rectangular appearance. Likewise values in pixel 1 to 6 form 8 and seems to have bigger rectangular structure. In addition, few of the colored pixels outside the rectangular shape seems to be in the relative position in both 1&8. All these factors are misleading the classifier.\n",
    "\n",
    "5 and 9 are another which gets confused now and then.They both kind of have the square shape of pixels colored in white and gray and an Inverted L shaped colored structure is attached to it. Since they both have almost identitical pixels colored, they are often misclassified."
   ]
  },
  {
   "cell_type": "markdown",
   "metadata": {},
   "source": [
    "Let's explore the influence of the number of nearest neighbors (i.e. try changing our K from 1 to 20) and plot the relationship between K and accuracy"
   ]
  },
  {
   "cell_type": "code",
   "execution_count": 6,
   "metadata": {},
   "outputs": [
    {
     "data": {
      "image/png": "[encoded data removed]",
      "text/plain": [
       "<Figure size 432x288 with 1 Axes>"
      ]
     },
     "metadata": {
      "needs_background": "light"
     },
     "output_type": "display_data"
    }
   ],
   "source": [
    "class Numbers2:\n",
    "    def __init__(self, trainPercentage):\n",
    "        #load data from sklearn\n",
    "        digits = sklearn.datasets.load_digits()\n",
    "        self.trainPercentage = trainPercentage\n",
    "        \n",
    "        img = digits.images\n",
    "        target = digits.target\n",
    "        self.digitImage = digits.images\n",
    "        \n",
    "        n_samples = len(img)\n",
    "        data = digits.images.reshape((n_samples, -1))\n",
    "        \n",
    "        xtrain, xtest, ytrain, ytest = sklearn.model_selection.train_test_split(data, target, train_size = self.trainPercentage)\n",
    "        self.train_x = np.array(xtrain) \n",
    "        self.train_y = np.array(ytrain) \n",
    "        self.test_x = np.array(xtest)\n",
    "        self.test_y = np.array(ytest)\n",
    "\n",
    "\n",
    "    def classify(self, k):\n",
    "        \"\"\"\n",
    "        Create a classifier using the training data and generate a confusion matrix for the test data\n",
    "        \"\"\"\n",
    "        \n",
    "        knnone = KNNClassifier(self.train_x, self.train_y, k)\n",
    "        conf_matrix = knnone.confusionMatrix(self.test_x, self.test_y)\n",
    "        Accuracy = knnone.accuracy(conf_matrix)\n",
    "        return conf_matrix, Accuracy\n",
    "        \n",
    "    def viewDigit(digitImage):\n",
    "        \"\"\"\n",
    "        Display an image of a digit\n",
    "        PARAMETERS\n",
    "        digitImage - a data object from the dataset\n",
    "        \"\"\"\n",
    "        plt.gray()\n",
    "        plt.matshow(digitImage)\n",
    "        plt.show()\n",
    "        \n",
    "test2 = Numbers2(.8)\n",
    "k_list, accuracy_list = [], []\n",
    "for i in range(1,20):\n",
    "    k_list.append(i)\n",
    "    C, accuracy = test2.classify(i)\n",
    "    accuracy_list.append(accuracy)\n",
    "        \n",
    "plt.plot(k_list, accuracy_list)\n",
    "plt.xlabel(\"K\")\n",
    "plt.ylabel(\"Accuracy\")\n",
    "plt.show()"
   ]
  },
  {
   "cell_type": "markdown",
   "metadata": {},
   "source": [
    "With K=1, we classify our datapoints more closely with respect to a single closest neighbour, which in some cases belong to the same class as our data point and some rare cases doesn't, it still maintains a good accuracy. But classifying a datapoint based on one single neighbour isn't a good approach always. With K=2 we might face tie scenarios which could potentially affect our  as we increase the K. But around K=3 to 7, it often gets higher accuracy because we have a enough neighbours (not to less, not too high) to predict the right class for our datapoint. But as we keep increasing the K value beyond a point, chances of neighbours of various classes being considered gets increased. As a result, our accuracy gets skewed. Often, the plot of K vs Accuracy maintains sort of a bell shaped curve, starting with less accuracy for K=1, then increasing around K=3 to 7, then decreasing beyond that."
   ]
  },
  {
   "cell_type": "markdown",
   "metadata": {},
   "source": [
    "Let's explore the influence of the train / test split of our data (i.e. try changing the split for our dataset) and plot the relationship between the split % and accuracy,."
   ]
  },
  {
   "cell_type": "code",
   "execution_count": 7,
   "metadata": {},
   "outputs": [
    {
     "data": {
      "image/png": "[encoded data removed]",
      "text/plain": [
       "<Figure size 432x288 with 1 Axes>"
      ]
     },
     "metadata": {
      "needs_background": "light"
     },
     "output_type": "display_data"
    }
   ],
   "source": [
    "accuracy_list = []\n",
    "splits = np.arange(0.1,1.0,0.1)\n",
    "for i in splits:\n",
    "    test = Numbers2(i)\n",
    "    C, accuracy = test.classify(5)\n",
    "    accuracy_list.append(accuracy)\n",
    "plt.plot(splits, accuracy_list)\n",
    "plt.xlabel(\"splits\")\n",
    "plt.ylabel(\"accuracy\")\n",
    "plt.show()"
   ]
  },
  {
   "cell_type": "markdown",
   "metadata": {},
   "source": [
    "The accuracy is very low for training splits less than or equal to 50% because with lesser training examples, our model doesn't learn different possibilities or behviours or characteristic features associated with a class. So it underfits the model in most cases. But with increase in training examples, the model learns the features better and knows what to look for and what does the presence and absence of each feature signifies and therefore it begins to classify better, thus increases the accuracy. The accuracy for 80-20 split and 90-10 split are very high and almost similar, but having relatively more testing data means we could better understand how our model performs, therefore 80-20 split is a good split."
   ]
  }
 ],
 "metadata": {
  "kernelspec": {
   "display_name": "Python 3",
   "language": "python",
   "name": "python3"
  },
  "language_info": {
   "codemirror_mode": {
    "name": "ipython",
    "version": 3
   },
   "file_extension": ".py",
   "mimetype": "text/x-python",
   "name": "python",
   "nbconvert_exporter": "python",
   "pygments_lexer": "ipython3",
   "version": "3.7.3"
  }
 },
 "nbformat": 4,
 "nbformat_minor": 2
}
